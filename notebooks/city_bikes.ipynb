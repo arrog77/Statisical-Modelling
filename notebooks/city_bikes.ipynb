{
 "cells": [
  {
   "attachments": {},
   "cell_type": "markdown",
   "metadata": {},
   "source": [
    "# CityBikes"
   ]
  },
  {
   "attachments": {},
   "cell_type": "markdown",
   "metadata": {},
   "source": [
    "Send a request to CityBikes for the city of your choice. "
   ]
  },
  {
   "cell_type": "code",
   "execution_count": null,
   "metadata": {},
   "outputs": [],
   "source": [
    "import requests\n",
    "def citybikes(city):\n",
    "    url = \"https://api.citybik.es/v2/networks/velib\"\n",
    "    payload = {\n",
    "        \"company\": \"JCDecaux\", \n",
    "        \"href\": \"/v2/networks/velib\",\n",
    "        \"location\": {\n",
    "          \"latitude\": 48.856612, \n",
    "          \"city\": \"Paris\", \n",
    "          \"longitude\": 2.352233, \n",
    "          \"country\": \"FRA\"\n",
    "        \n",
    "    }}\n",
    "\n",
    "    try:\n",
    "        response = requests.get(url)\n",
    "        if response.status_code == 200:\n",
    "            print(\"Request sent successfully!\")\n",
    "        else:\n",
    "            print(\"Failed to send the request. Status Code: {}\".format(response.status_code))\n",
    "    except requests.exceptions.RequestException as e:\n",
    "        print(\"An error occurred: {}\".format(e))\n",
    "\n",
    "\n",
    "city = \"Paris\" \n",
    "citybikes(city)"
   ]
  },
  {
   "attachments": {},
   "cell_type": "markdown",
   "metadata": {},
   "source": [
    "Parse through the response to get the details you want for the bike stations in that city (latitude, longitude, number of bikes). "
   ]
  },
  {
   "cell_type": "code",
   "execution_count": null,
   "metadata": {},
   "outputs": [],
   "source": [
    "  "
   ]
  },
  {
   "attachments": {},
   "cell_type": "markdown",
   "metadata": {},
   "source": [
    "Put your parsed results into a DataFrame."
   ]
  },
  {
   "cell_type": "code",
   "execution_count": null,
   "metadata": {},
   "outputs": [],
   "source": []
  }
 ],
 "metadata": {
  "kernelspec": {
   "display_name": "Python 3",
   "language": "python",
   "name": "python3"
  },
  "language_info": {
   "codemirror_mode": {
    "name": "ipython",
    "version": 3
   },
   "file_extension": ".py",
   "mimetype": "text/x-python",
   "name": "python",
   "nbconvert_exporter": "python",
   "pygments_lexer": "ipython3",
   "version": "3.8.5"
  }
 },
 "nbformat": 4,
 "nbformat_minor": 4
}
